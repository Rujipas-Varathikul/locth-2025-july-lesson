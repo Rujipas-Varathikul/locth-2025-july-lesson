{
 "cells": [
  {
   "cell_type": "markdown",
   "id": "396ee6ef",
   "metadata": {},
   "source": [
    "# Python Level 1 Week 5\n",
    "## Topics Covered\n",
    "1. while loop\n",
    "2. Action in loops\n",
    "3. Loop and condition"
   ]
  },
  {
   "cell_type": "code",
   "execution_count": null,
   "id": "bf84814e",
   "metadata": {},
   "outputs": [],
   "source": [
    "for variable_name in range(5):\n",
    "    action_to_do"
   ]
  },
  {
   "cell_type": "code",
   "execution_count": null,
   "id": "7cafebe3",
   "metadata": {},
   "outputs": [
    {
     "name": "stdout",
     "output_type": "stream",
     "text": [
      "Hello\n",
      "Hello\n",
      "Hello\n",
      "Hello\n",
      "Hello\n"
     ]
    }
   ],
   "source": [
    "for _ in range(5): # 0, 1, 2, 3, 4\n",
    "    print('Hello')"
   ]
  },
  {
   "cell_type": "markdown",
   "id": "63271018",
   "metadata": {},
   "source": [
    "## while Loop"
   ]
  },
  {
   "cell_type": "code",
   "execution_count": null,
   "id": "eeb57a53",
   "metadata": {},
   "outputs": [],
   "source": [
    "variable\n",
    "\n",
    "while condition: # 8 > 2\n",
    "    action_to_do\n",
    "    variable_adjustment"
   ]
  },
  {
   "cell_type": "code",
   "execution_count": null,
   "id": "e684c775",
   "metadata": {},
   "outputs": [
    {
     "name": "stdout",
     "output_type": "stream",
     "text": [
      "The price is 20\n",
      "The price is 40\n",
      "The price is 60\n",
      "The price is 80\n"
     ]
    }
   ],
   "source": [
    "price = 20\n",
    "\n",
    "while price < 100:\n",
    "    print('The price is', price)\n",
    "    price = price + 20"
   ]
  },
  {
   "cell_type": "markdown",
   "id": "e7e65f32",
   "metadata": {},
   "source": [
    "## Action in loops\n",
    "`pass`, `break`, `continue`"
   ]
  },
  {
   "cell_type": "code",
   "execution_count": 5,
   "id": "d505ed04",
   "metadata": {},
   "outputs": [
    {
     "name": "stdout",
     "output_type": "stream",
     "text": [
      "2\n",
      "3\n",
      "The loop is ended.\n"
     ]
    }
   ],
   "source": [
    "for number in range(2, 7): # 2, 3, 4, 5, 6\n",
    "    print(number)\n",
    "\n",
    "    if number == 3:\n",
    "        break\n",
    "\n",
    "print('The loop is ended.')"
   ]
  },
  {
   "cell_type": "code",
   "execution_count": 6,
   "id": "04246c8b",
   "metadata": {},
   "outputs": [
    {
     "name": "stdout",
     "output_type": "stream",
     "text": [
      "2\n",
      "4\n",
      "5\n",
      "6\n",
      "The loop is ended.\n"
     ]
    }
   ],
   "source": [
    "for number in range(2, 7): # 2, 3, 4, 5, 6\n",
    "    if number == 3:\n",
    "        continue\n",
    "\n",
    "    print(number)\n",
    "\n",
    "print('The loop is ended.')"
   ]
  },
  {
   "cell_type": "code",
   "execution_count": 7,
   "id": "9c61de85",
   "metadata": {},
   "outputs": [
    {
     "name": "stdout",
     "output_type": "stream",
     "text": [
      "2\n",
      "A\n",
      "3\n",
      "A\n",
      "B\n",
      "C\n",
      "4\n",
      "A\n",
      "5\n",
      "A\n",
      "B\n",
      "D\n"
     ]
    }
   ],
   "source": [
    "for number in range(2, 12):\n",
    "    print(number)\n",
    "    print('A')\n",
    "\n",
    "    if number % 2 == 0:\n",
    "        continue\n",
    "\n",
    "    print('B')\n",
    "\n",
    "    if number == 5:\n",
    "        break\n",
    "\n",
    "    print('C')\n",
    "\n",
    "print('D')"
   ]
  },
  {
   "cell_type": "code",
   "execution_count": null,
   "id": "a28b5370",
   "metadata": {},
   "outputs": [
    {
     "name": "stdout",
     "output_type": "stream",
     "text": [
      "2\n",
      "A\n",
      "3\n",
      "A\n",
      "B\n",
      "C\n",
      "4\n",
      "A\n",
      "5\n",
      "A\n",
      "B\n",
      "C\n",
      "D\n"
     ]
    }
   ],
   "source": [
    "for number in range(2, 6):\n",
    "    print(number)\n",
    "    print('A')\n",
    "\n",
    "    if number % 2 == 0:\n",
    "        continue\n",
    "\n",
    "    print('B')\n",
    "\n",
    "    if number == 4:\n",
    "        break\n",
    "\n",
    "    print('C')\n",
    "\n",
    "print('D')"
   ]
  }
 ],
 "metadata": {
  "kernelspec": {
   "display_name": "locth-lesson",
   "language": "python",
   "name": "python3"
  },
  "language_info": {
   "codemirror_mode": {
    "name": "ipython",
    "version": 3
   },
   "file_extension": ".py",
   "mimetype": "text/x-python",
   "name": "python",
   "nbconvert_exporter": "python",
   "pygments_lexer": "ipython3",
   "version": "3.13.5"
  }
 },
 "nbformat": 4,
 "nbformat_minor": 5
}
